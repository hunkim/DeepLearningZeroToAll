{
 "cells": [
  {
   "cell_type": "markdown",
   "metadata": {
    "collapsed": true
   },
   "source": [
    "<h1> AWS Summit 2017 - Seoul: MXNet Logistic Regression Example"
   ]
  },
  {
   "cell_type": "code",
   "execution_count": 1,
   "metadata": {},
   "outputs": [],
   "source": [
    "import mxnet as mx\n",
    "import mxnet.ndarray as nd\n",
    "import numpy as np\n",
    "import logging\n",
    "import sys\n",
    "import os\n",
    "\n",
    "logging.basicConfig(stream=sys.stdout, level=logging.DEBUG)  # Config the logging\n",
    "np.random.seed(777)"
   ]
  },
  {
   "cell_type": "markdown",
   "metadata": {},
   "source": [
    "<h3> 1. Load the data </h3>\n",
    "\n",
    "We use 8 features to predict whether the patient has diabetes or not. We will use 700 instances for training and 59 instances for testing."
   ]
  },
  {
   "cell_type": "code",
   "execution_count": 2,
   "metadata": {},
   "outputs": [
    {
     "name": "stdout",
     "output_type": "stream",
     "text": [
      "(700, 8) (59, 8) (700, 1) (59, 1)\n"
     ]
    }
   ],
   "source": [
    "xy = np.loadtxt(os.path.join('data-03-diabetes.csv'), delimiter=',', dtype=np.float32)\n",
    "x_data = xy[:, 0:-1]\n",
    "y_data = xy[:, [-1]]\n",
    "\n",
    "train_x_data, test_x_data = x_data[:700], x_data[700:]\n",
    "train_y_data, test_y_data = y_data[:700], y_data[700:]\n",
    "print(train_x_data.shape, test_x_data.shape, train_y_data.shape, test_y_data.shape)\n",
    "\n",
    "# hyper-parameters\n",
    "sample_num = x_data.shape[0]\n",
    "dimension = x_data.shape[1]\n",
    "batch_size = 32"
   ]
  },
  {
   "cell_type": "markdown",
   "metadata": {},
   "source": [
    "<h3> 2. Build the symbol </h3>\n",
    "\n",
    "Next we will build the symbol, which is used to determine the data flow."
   ]
  },
  {
   "cell_type": "code",
   "execution_count": 3,
   "metadata": {},
   "outputs": [],
   "source": [
    "data = mx.sym.Variable(\"data\")\n",
    "target = mx.sym.Variable(\"target\")\n",
    "fc = mx.sym.FullyConnected(data=data, num_hidden=1, name='fc')\n",
    "pred = mx.sym.LogisticRegressionOutput(data=fc, label=target)"
   ]
  },
  {
   "cell_type": "markdown",
   "metadata": {},
   "source": [
    "<h3> 3. Construct the Module </h3>\n",
    "\n",
    "We will construct the Module object based on the symbol. Module will be used for training and testing."
   ]
  },
  {
   "cell_type": "code",
   "execution_count": 13,
   "metadata": {},
   "outputs": [],
   "source": [
    "net = mx.mod.Module(symbol=pred,\n",
    "                    data_names=['data'],\n",
    "                    label_names=['target'],\n",
    "                    context=mx.gpu(0))\n",
    "net.bind(data_shapes = [mx.io.DataDesc(name='data', shape=(batch_size, dimension), layout='NC')],\n",
    "         label_shapes= [mx.io.DataDesc(name='target', shape=(batch_size, 1), layout='NC')])\n",
    "net.init_params(initializer=mx.init.Normal(sigma=0.01))\n",
    "net.init_optimizer(optimizer='sgd', optimizer_params={'learning_rate': 1E-2, 'momentum': 0.9})"
   ]
  },
  {
   "cell_type": "markdown",
   "metadata": {},
   "source": [
    "<h3> 4. Training </h3>\n",
    "\n",
    "We can fit the training set now."
   ]
  },
  {
   "cell_type": "code",
   "execution_count": 14,
   "metadata": {},
   "outputs": [
    {
     "name": "stdout",
     "output_type": "stream",
     "text": [
      "WARNING:root:Already bound, ignoring bind()\n"
     ]
    },
    {
     "name": "stdout",
     "output_type": "stream",
     "text": [
      "WARNING:root:optimizer already initialized, ignoring...\n"
     ]
    },
    {
     "name": "stdout",
     "output_type": "stream",
     "text": [
      "INFO:root:Epoch[0] Train-acc=0.659091\n"
     ]
    },
    {
     "name": "stdout",
     "output_type": "stream",
     "text": [
      "INFO:root:Epoch[0] Time cost=0.019\n"
     ]
    },
    {
     "name": "stdout",
     "output_type": "stream",
     "text": [
      "INFO:root:Epoch[1] Train-acc=0.657670\n"
     ]
    },
    {
     "name": "stdout",
     "output_type": "stream",
     "text": [
      "INFO:root:Epoch[1] Time cost=0.019\n"
     ]
    },
    {
     "name": "stdout",
     "output_type": "stream",
     "text": [
      "INFO:root:Epoch[2] Train-acc=0.654830\n"
     ]
    },
    {
     "name": "stdout",
     "output_type": "stream",
     "text": [
      "INFO:root:Epoch[2] Time cost=0.018\n"
     ]
    },
    {
     "name": "stdout",
     "output_type": "stream",
     "text": [
      "INFO:root:Epoch[3] Train-acc=0.656250\n"
     ]
    },
    {
     "name": "stdout",
     "output_type": "stream",
     "text": [
      "INFO:root:Epoch[3] Time cost=0.021\n"
     ]
    },
    {
     "name": "stdout",
     "output_type": "stream",
     "text": [
      "INFO:root:Epoch[4] Train-acc=0.666193\n"
     ]
    },
    {
     "name": "stdout",
     "output_type": "stream",
     "text": [
      "INFO:root:Epoch[4] Time cost=0.016\n"
     ]
    },
    {
     "name": "stdout",
     "output_type": "stream",
     "text": [
      "INFO:root:Epoch[5] Train-acc=0.677557\n"
     ]
    },
    {
     "name": "stdout",
     "output_type": "stream",
     "text": [
      "INFO:root:Epoch[5] Time cost=0.017\n"
     ]
    },
    {
     "name": "stdout",
     "output_type": "stream",
     "text": [
      "INFO:root:Epoch[6] Train-acc=0.696023\n"
     ]
    },
    {
     "name": "stdout",
     "output_type": "stream",
     "text": [
      "INFO:root:Epoch[6] Time cost=0.016\n"
     ]
    },
    {
     "name": "stdout",
     "output_type": "stream",
     "text": [
      "INFO:root:Epoch[7] Train-acc=0.711648\n"
     ]
    },
    {
     "name": "stdout",
     "output_type": "stream",
     "text": [
      "INFO:root:Epoch[7] Time cost=0.018\n"
     ]
    },
    {
     "name": "stdout",
     "output_type": "stream",
     "text": [
      "INFO:root:Epoch[8] Train-acc=0.714489\n"
     ]
    },
    {
     "name": "stdout",
     "output_type": "stream",
     "text": [
      "INFO:root:Epoch[8] Time cost=0.016\n"
     ]
    },
    {
     "name": "stdout",
     "output_type": "stream",
     "text": [
      "INFO:root:Epoch[9] Train-acc=0.725852\n"
     ]
    },
    {
     "name": "stdout",
     "output_type": "stream",
     "text": [
      "INFO:root:Epoch[9] Time cost=0.018\n"
     ]
    },
    {
     "name": "stderr",
     "output_type": "stream",
     "text": [
      "d:\\hkust\\mxnet\\python\\mxnet\\module\\base_module.py:530: UserWarning: Parameters already initialized and force_init=False. init_params call ignored.\n  allow_missing=allow_missing, force_init=force_init)\n"
     ]
    },
    {
     "name": "stdout",
     "output_type": "stream",
     "text": [
      "INFO:root:Epoch[10] Train-acc=0.738636\n"
     ]
    },
    {
     "name": "stdout",
     "output_type": "stream",
     "text": [
      "INFO:root:Epoch[10] Time cost=0.018\n"
     ]
    },
    {
     "name": "stdout",
     "output_type": "stream",
     "text": [
      "INFO:root:Epoch[11] Train-acc=0.748580\n"
     ]
    },
    {
     "name": "stdout",
     "output_type": "stream",
     "text": [
      "INFO:root:Epoch[11] Time cost=0.019\n"
     ]
    },
    {
     "name": "stdout",
     "output_type": "stream",
     "text": [
      "INFO:root:Epoch[12] Train-acc=0.758523\n"
     ]
    },
    {
     "name": "stdout",
     "output_type": "stream",
     "text": [
      "INFO:root:Epoch[12] Time cost=0.019\n"
     ]
    },
    {
     "name": "stdout",
     "output_type": "stream",
     "text": [
      "INFO:root:Epoch[13] Train-acc=0.761364\n"
     ]
    },
    {
     "name": "stdout",
     "output_type": "stream",
     "text": [
      "INFO:root:Epoch[13] Time cost=0.018\n"
     ]
    },
    {
     "name": "stdout",
     "output_type": "stream",
     "text": [
      "INFO:root:Epoch[14] Train-acc=0.759943\n"
     ]
    },
    {
     "name": "stdout",
     "output_type": "stream",
     "text": [
      "INFO:root:Epoch[14] Time cost=0.020\n"
     ]
    }
   ],
   "source": [
    "# First constructing the training iterator and then fit the model\n",
    "train_iter = mx.io.NDArrayIter(train_x_data, train_y_data, batch_size, shuffle=True, label_name='target')\n",
    "metric = mx.metric.CustomMetric(feval=lambda labels, pred: ((pred > 0.5) == labels).mean(),\n",
    "                                name=\"acc\")\n",
    "net.fit(train_data=train_iter, eval_metric=metric, num_epoch=15)"
   ]
  },
  {
   "cell_type": "markdown",
   "metadata": {},
   "source": [
    "<h3> 5. Testing </h3>\n",
    "\n",
    "Let's test the model on the test set."
   ]
  },
  {
   "cell_type": "code",
   "execution_count": 15,
   "metadata": {},
   "outputs": [
    {
     "name": "stdout",
     "output_type": "stream",
     "text": [
      "[[ 1.]\n [ 1.]\n [ 1.]\n [ 0.]\n [ 1.]\n [ 1.]\n [ 0.]\n [ 0.]\n [ 1.]\n [ 1.]\n [ 1.]\n [ 1.]\n [ 1.]\n [ 1.]\n [ 1.]\n [ 1.]\n [ 1.]\n [ 1.]\n [ 1.]\n [ 1.]\n [ 1.]\n [ 1.]\n [ 1.]\n [ 0.]\n [ 1.]\n [ 1.]\n [ 1.]\n [ 1.]\n [ 1.]\n [ 1.]\n [ 1.]\n [ 0.]\n [ 1.]\n [ 1.]\n [ 0.]\n [ 0.]\n [ 1.]\n [ 1.]\n [ 1.]\n [ 1.]\n [ 1.]\n [ 1.]\n [ 1.]\n [ 1.]\n [ 0.]\n [ 0.]\n [ 1.]\n [ 1.]\n [ 1.]\n [ 1.]\n [ 0.]\n [ 1.]\n [ 0.]\n [ 1.]\n [ 1.]\n [ 1.]\n [ 1.]\n [ 1.]\n [ 1.]]\n"
     ]
    }
   ],
   "source": [
    "test_iter = mx.io.NDArrayIter(test_x_data, None, batch_size, shuffle=False, label_name=None)\n",
    "\n",
    "pred_class = (fc > 0)\n",
    "test_net = mx.mod.Module(symbol=pred_class,\n",
    "                         data_names=['data'],\n",
    "                         label_names=None,\n",
    "                         context=mx.gpu(0))\n",
    "test_net.bind(data_shapes=[mx.io.DataDesc(name='data', shape=(batch_size, dimension), layout='NC')],\n",
    "              label_shapes=None,\n",
    "              for_training=False,\n",
    "              shared_module=net)\n",
    "out = test_net.predict(eval_data=test_iter)\n",
    "print(out.asnumpy())"
   ]
  },
  {
   "cell_type": "code",
   "execution_count": 16,
   "metadata": {},
   "outputs": [
    {
     "name": "stdout",
     "output_type": "stream",
     "text": [
      "Accuracy: 0.7627\n"
     ]
    }
   ],
   "source": [
    "acc = np.equal(test_y_data, out.asnumpy()).mean()\n",
    "print(\"Accuracy: %.4g\" %acc)"
   ]
  },
  {
   "cell_type": "code",
   "execution_count": null,
   "metadata": {},
   "outputs": [],
   "source": [
    ""
   ]
  }
 ],
 "metadata": {
  "kernelspec": {
   "display_name": "Python 2",
   "language": "python",
   "name": "python2"
  },
  "language_info": {
   "codemirror_mode": {
    "name": "ipython",
    "version": 2.0
   },
   "file_extension": ".py",
   "mimetype": "text/x-python",
   "name": "python",
   "nbconvert_exporter": "python",
   "pygments_lexer": "ipython2",
   "version": "2.7.6"
  }
 },
 "nbformat": 4,
 "nbformat_minor": 0
}