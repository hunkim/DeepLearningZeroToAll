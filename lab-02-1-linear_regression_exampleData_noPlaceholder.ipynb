{
 "cells": [
  {
   "cell_type": "markdown",
   "metadata": {},
   "source": [
    "# TensorFlow Mechanics \n",
    "\n",
    "### - Build graph using TensorFlow operations\n",
    "### - feed data and run graph (operation)\n",
    "### - update variables in the graph (and return values) \n"
   ]
  },
  {
   "cell_type": "markdown",
   "metadata": {},
   "source": [
    "# Use x_train data and y_train data directly"
   ]
  },
  {
   "cell_type": "code",
   "execution_count": 1,
   "metadata": {
    "collapsed": true
   },
   "outputs": [],
   "source": [
    "import tensorflow as tf\n",
    "\n"
   ]
  },
  {
   "cell_type": "markdown",
   "metadata": {
    "collapsed": false
   },
   "source": [
    "Try to find values for W and b to compute $$y = W * x+ b $$\n",
    "We know that $W$ should be $1$ and $b$ should be $0$\n",
    "But let's use TensorFlow to figure it out"
   ]
  },
  {
   "cell_type": "markdown",
   "metadata": {},
   "source": [
    "# 1. Build graph using TF operations"
   ]
  },
  {
   "cell_type": "code",
   "execution_count": 2,
   "metadata": {
    "collapsed": true
   },
   "outputs": [],
   "source": [
    "# x and y data\n",
    "x_train = [1,2,3]\n",
    "y_train = [1,2,3]\n",
    "\n",
    "# W weight and b bias\n",
    "W = tf.Variable(tf.random_normal([1]),name='weight')\n",
    "b = tf.Variable(tf.random_normal([1]),name='bias')\n",
    "\n",
    "# our hypothsis\n",
    "hypothesis = x_train * W + b\n",
    "\n",
    "# cost/loss function\n",
    "cost = tf.reduce_mean(tf.square(hypothesis - y_train))\n",
    "\n",
    "# GradientDescent to Minimize\n",
    "optimizer = tf.train.GradientDescentOptimizer(learning_rate=0.01)\n",
    "train = optimizer.minimize(cost)"
   ]
  },
  {
   "cell_type": "markdown",
   "metadata": {
    "collapsed": true
   },
   "source": [
    "### exmaple of reduce_mean() function\n",
    "run this after launch a session"
   ]
  },
  {
   "cell_type": "code",
   "execution_count": 4,
   "metadata": {
    "collapsed": false
   },
   "outputs": [
    {
     "data": {
      "text/plain": [
       "2.5"
      ]
     },
     "execution_count": 4,
     "metadata": {},
     "output_type": "execute_result"
    }
   ],
   "source": [
    "t = [1., 2., 3., 4.]\n",
    "sess.run(tf.reduce_mean(t))"
   ]
  },
  {
   "cell_type": "markdown",
   "metadata": {},
   "source": [
    "# 2/3. Run/update graph and get results"
   ]
  },
  {
   "cell_type": "code",
   "execution_count": 3,
   "metadata": {
    "collapsed": false
   },
   "outputs": [
    {
     "name": "stdout",
     "output_type": "stream",
     "text": [
      "step,sess.run(cost),sess.run(W),sess.run(b)\n",
      "0 1.11827 [ 0.96841359] [ 1.12034178]\n",
      "20 0.126633 [ 0.63839251] [ 0.92186004]\n",
      "40 0.10695 [ 0.62382102] [ 0.86465013]\n",
      "60 0.0970606 [ 0.63849431] [ 0.82269263]\n",
      "80 0.0881513 [ 0.65519762] [ 0.78390312]\n",
      "100 0.0800605 [ 0.67137468] [ 0.74705058]\n",
      "120 0.0727121 [ 0.68681633] [ 0.71194077]\n",
      "140 0.0660383 [ 0.70153457] [ 0.67848212]\n",
      "160 0.0599771 [ 0.71556139] [ 0.64659595]\n",
      "180 0.0544722 [ 0.72892886] [ 0.61620837]\n",
      "200 0.0494725 [ 0.74166816] [ 0.58724886]\n",
      "220 0.0449317 [ 0.75380886] [ 0.55965024]\n",
      "240 0.0408077 [ 0.76537889] [ 0.5333488]\n",
      "260 0.0370622 [ 0.77640522] [ 0.50828338]\n",
      "280 0.0336605 [ 0.78691339] [ 0.48439589]\n",
      "300 0.030571 [ 0.79692763] [ 0.46163115]\n",
      "320 0.0277651 [ 0.80647135] [ 0.43993619]\n",
      "340 0.0252167 [ 0.81556636] [ 0.41926083]\n",
      "360 0.0229022 [ 0.82423413] [ 0.39955711]\n",
      "380 0.0208001 [ 0.8324945] [ 0.38077936]\n",
      "400 0.018891 [ 0.84036666] [ 0.36288416]\n",
      "420 0.0171571 [ 0.8478688] [ 0.34582996]\n",
      "440 0.0155824 [ 0.85501844] [ 0.32957724]\n",
      "460 0.0141522 [ 0.86183196] [ 0.31408831]\n",
      "480 0.0128532 [ 0.86832535] [ 0.29932731]\n",
      "500 0.0116735 [ 0.87451357] [ 0.28526008]\n",
      "520 0.0106021 [ 0.88041103] [ 0.27185392]\n",
      "540 0.00962897 [ 0.88603121] [ 0.25907782]\n",
      "560 0.0087452 [ 0.89138734] [ 0.24690211]\n",
      "580 0.00794252 [ 0.89649177] [ 0.2352986]\n",
      "600 0.00721352 [ 0.90135634] [ 0.22424038]\n",
      "620 0.00655142 [ 0.90599215] [ 0.2137019]\n",
      "640 0.00595012 [ 0.91041017] [ 0.20365876]\n",
      "660 0.005404 [ 0.91462052] [ 0.19408758]\n",
      "680 0.00490799 [ 0.91863304] [ 0.18496616]\n",
      "700 0.00445752 [ 0.92245704] [ 0.17627345]\n",
      "720 0.00404839 [ 0.92610127] [ 0.16798927]\n",
      "740 0.00367681 [ 0.92957425] [ 0.16009438]\n",
      "760 0.00333934 [ 0.93288398] [ 0.15257052]\n",
      "780 0.00303284 [ 0.9360382] [ 0.14540026]\n",
      "800 0.00275448 [ 0.939044] [ 0.138567]\n",
      "820 0.00250166 [ 0.94190884] [ 0.13205487]\n",
      "840 0.00227205 [ 0.94463891] [ 0.12584879]\n",
      "860 0.00206351 [ 0.94724065] [ 0.11993437]\n",
      "880 0.00187411 [ 0.9497202] [ 0.11429793]\n",
      "900 0.0017021 [ 0.95208317] [ 0.10892632]\n",
      "920 0.00154587 [ 0.95433503] [ 0.10380718]\n",
      "940 0.00140399 [ 0.9564811] [ 0.09892864]\n",
      "960 0.00127513 [ 0.95852637] [ 0.09427937]\n",
      "980 0.00115808 [ 0.96047556] [ 0.0898485]\n",
      "1000 0.00105179 [ 0.96233302] [ 0.08562592]\n",
      "1020 0.000955254 [ 0.96410316] [ 0.08160185]\n",
      "1040 0.000867577 [ 0.96579021] [ 0.07776689]\n",
      "1060 0.000787949 [ 0.96739787] [ 0.07411215]\n",
      "1080 0.000715632 [ 0.96893001] [ 0.07062919]\n",
      "1100 0.000649948 [ 0.97039026] [ 0.06730994]\n",
      "1120 0.000590292 [ 0.97178179] [ 0.06414662]\n",
      "1140 0.000536111 [ 0.97310793] [ 0.06113198]\n",
      "1160 0.000486908 [ 0.97437179] [ 0.05825901]\n",
      "1180 0.000442217 [ 0.97557622] [ 0.05552102]\n",
      "1200 0.000401629 [ 0.97672403] [ 0.05291171]\n",
      "1220 0.000364766 [ 0.97781789] [ 0.05042507]\n",
      "1240 0.000331284 [ 0.97886038] [ 0.04805532]\n",
      "1260 0.000300881 [ 0.97985381] [ 0.04579693]\n",
      "1280 0.000273261 [ 0.98080069] [ 0.04364462]\n",
      "1300 0.000248182 [ 0.98170298] [ 0.04159348]\n",
      "1320 0.000225404 [ 0.9825629] [ 0.03963872]\n",
      "1340 0.000204714 [ 0.98338234] [ 0.03777584]\n",
      "1360 0.000185924 [ 0.98416328] [ 0.03600052]\n",
      "1380 0.00016886 [ 0.98490763] [ 0.03430862]\n",
      "1400 0.000153361 [ 0.98561692] [ 0.03269623]\n",
      "1420 0.000139285 [ 0.98629284] [ 0.03115962]\n",
      "1440 0.0001265 [ 0.98693705] [ 0.02969521]\n",
      "1460 0.000114891 [ 0.98755091] [ 0.02829964]\n",
      "1480 0.000104346 [ 0.98813599] [ 0.02696968]\n",
      "1500 9.47681e-05 [ 0.98869348] [ 0.02570223]\n",
      "1520 8.60702e-05 [ 0.98922491] [ 0.02449436]\n",
      "1540 7.81712e-05 [ 0.98973107] [ 0.02334327]\n",
      "1560 7.09964e-05 [ 0.99021387] [ 0.02224631]\n",
      "1580 6.44793e-05 [ 0.99067384] [ 0.02120075]\n",
      "1600 5.85613e-05 [ 0.99111211] [ 0.02020435]\n",
      "1620 5.31859e-05 [ 0.99152976] [ 0.0192548]\n",
      "1640 4.83053e-05 [ 0.9919278] [ 0.0183499]\n",
      "1660 4.38709e-05 [ 0.99230719] [ 0.01748753]\n",
      "1680 3.98439e-05 [ 0.99266875] [ 0.01666568]\n",
      "1700 3.6187e-05 [ 0.99301326] [ 0.01588243]\n",
      "1720 3.28663e-05 [ 0.99334162] [ 0.01513604]\n",
      "1740 2.9849e-05 [ 0.99365455] [ 0.01442468]\n",
      "1760 2.71094e-05 [ 0.99395275] [ 0.01374678]\n",
      "1780 2.46211e-05 [ 0.99423701] [ 0.01310072]\n",
      "1800 2.23608e-05 [ 0.99450785] [ 0.01248502]\n",
      "1820 2.03095e-05 [ 0.99476594] [ 0.0118983]\n",
      "1840 1.84448e-05 [ 0.99501199] [ 0.0113391]\n",
      "1860 1.67521e-05 [ 0.99524635] [ 0.01080617]\n",
      "1880 1.52146e-05 [ 0.99546975] [ 0.01029832]\n",
      "1900 1.38181e-05 [ 0.99568266] [ 0.00981434]\n",
      "1920 1.25496e-05 [ 0.99588555] [ 0.00935312]\n",
      "1940 1.13981e-05 [ 0.99607891] [ 0.00891357]\n",
      "1960 1.03518e-05 [ 0.99626315] [ 0.00849468]\n",
      "1980 9.40174e-06 [ 0.99643874] [ 0.00809548]\n",
      "2000 8.5388e-06 [ 0.99660617] [ 0.00771503]\n"
     ]
    }
   ],
   "source": [
    "# launch the graph in a session\n",
    "sess = tf.Session()\n",
    "\n",
    "\n",
    "# inintializes global variables in the graph\n",
    "sess.run(tf.global_variables_initializer())\n",
    "\n",
    "print(\"step,sess.run(cost),sess.run(W),sess.run(b)\")\n",
    "# fit the line\n",
    "for step in range(2001):\n",
    "    sess.run(train)\n",
    "    if step % 20 == 0:\n",
    "        print(step,sess.run(cost),sess.run(W),sess.run(b))\n",
    "        #print(step,sess.run([cost, W, b]))"
   ]
  },
  {
   "cell_type": "markdown",
   "metadata": {
    "collapsed": true
   },
   "source": [
    "# Example in TF website\n",
    "### From https://www.tensorflow.org/get_started/get_started"
   ]
  },
  {
   "cell_type": "code",
   "execution_count": 5,
   "metadata": {
    "collapsed": false
   },
   "outputs": [
    {
     "name": "stdout",
     "output_type": "stream",
     "text": [
      "W: [-0.9999969] b: [ 0.99999082] loss: 5.69997e-11\n"
     ]
    }
   ],
   "source": [
    "\n",
    "import tensorflow as tf\n",
    "\n",
    "# Model parameters\n",
    "W = tf.Variable([.3], tf.float32)\n",
    "b = tf.Variable([-.3], tf.float32)\n",
    "\n",
    "# Model input and output\n",
    "x = tf.placeholder(tf.float32)\n",
    "y = tf.placeholder(tf.float32)\n",
    "\n",
    "linear_model = x * W + b\n",
    "\n",
    "# cost/loss function\n",
    "loss = tf.reduce_sum(tf.square(linear_model - y))  # sum of the squares\n",
    "\n",
    "# optimizer\n",
    "optimizer = tf.train.GradientDescentOptimizer(0.01)\n",
    "train = optimizer.minimize(loss)\n",
    "\n",
    "# training data\n",
    "x_train = [1, 2, 3, 4]\n",
    "y_train = [0, -1, -2, -3]\n",
    "\n",
    "# training loop\n",
    "init = tf.global_variables_initializer()\n",
    "sess = tf.Session()\n",
    "sess.run(init)  # reset values to wrong\n",
    "for i in range(1000):\n",
    "    sess.run(train, {x: x_train, y: y_train})\n",
    "\n",
    "# evaluate training accuracy\n",
    "curr_W, curr_b, curr_loss = sess.run([W, b, loss], {x: x_train, y: y_train})\n",
    "print(\"W: %s b: %s loss: %s\" % (curr_W, curr_b, curr_loss))"
   ]
  },
  {
   "cell_type": "code",
   "execution_count": null,
   "metadata": {
    "collapsed": true
   },
   "outputs": [],
   "source": []
  }
 ],
 "metadata": {
  "kernelspec": {
   "display_name": "Python 3",
   "language": "python",
   "name": "python3"
  },
  "language_info": {
   "codemirror_mode": {
    "name": "ipython",
    "version": 3
   },
   "file_extension": ".py",
   "mimetype": "text/x-python",
   "name": "python",
   "nbconvert_exporter": "python",
   "pygments_lexer": "ipython3",
   "version": "3.6.0"
  }
 },
 "nbformat": 4,
 "nbformat_minor": 2
}
