{
  "nbformat": 4,
  "nbformat_minor": 0,
  "metadata": {
    "kernelspec": {
      "display_name": "Python 3",
      "language": "python",
      "name": "python3"
    },
    "language_info": {
      "codemirror_mode": {
        "name": "ipython",
        "version": 3
      },
      "file_extension": ".py",
      "mimetype": "text/x-python",
      "name": "python",
      "nbconvert_exporter": "python",
      "pygments_lexer": "ipython3",
      "version": "3.5.2"
    },
    "colab": {
      "name": "lab-02-1-linear_regression.ipynb",
      "provenance": [],
      "toc_visible": true
    }
  },
  "cells": [
    {
      "cell_type": "markdown",
      "metadata": {
        "id": "ZICkbQhWpoRS"
      },
      "source": [
        "# Lab-02-1 linear regression"
      ]
    },
    {
      "cell_type": "code",
      "metadata": {
        "collapsed": true,
        "id": "iZxQL-WHpoRb",
        "outputId": "39060644-282a-4d77-8466-541076c3515d",
        "colab": {
          "base_uri": "https://localhost:8080/"
        }
      },
      "source": [
        "import tensorflow as tf\n",
        "\n",
        "print(tf.__version__)\n",
        "\n",
        "tf.random.set_seed(777) # Sets the global random seed.\n",
        "# tf.set_random_seed(777)  # for reprducibilty"
      ],
      "execution_count": 143,
      "outputs": [
        {
          "output_type": "stream",
          "text": [
            "2.4.1\n"
          ],
          "name": "stdout"
        }
      ]
    },
    {
      "cell_type": "markdown",
      "metadata": {
        "id": "kEO-lWZDpoRc"
      },
      "source": [
        "## X and Y data"
      ]
    },
    {
      "cell_type": "code",
      "metadata": {
        "collapsed": true,
        "id": "BWSB9TOWpoRc"
      },
      "source": [
        "x_train = [1, 2, 3]\n",
        "y_train = [1, 2, 3]"
      ],
      "execution_count": 144,
      "outputs": []
    },
    {
      "cell_type": "markdown",
      "metadata": {
        "id": "s1drAjBnpoRd"
      },
      "source": [
        "## Variable"
      ]
    },
    {
      "cell_type": "code",
      "metadata": {
        "id": "e3BfWFbTpoRd"
      },
      "source": [
        "# Try to find value for W and b to compute y_data = x_data * W + b  \n",
        "# We know that W should be 1 and b should be 0\n",
        "# But let's TensorFlow figure it out \n",
        "\n",
        "# Outputs random values from a normal distribution.\n",
        "\n",
        "W = tf.Variable(tf.random.normal([1]), name=\"weight\")\n",
        "b = tf.Variable(tf.random.normal([1]), name=\"bias\")\n"
      ],
      "execution_count": 145,
      "outputs": []
    },
    {
      "cell_type": "markdown",
      "metadata": {
        "id": "sqAn6JUQpoRd"
      },
      "source": [
        "## Our Model"
      ]
    },
    {
      "cell_type": "code",
      "metadata": {
        "collapsed": true,
        "id": "rdd5iuqZpoRe"
      },
      "source": [
        "# Our hypothesis XW+b\n",
        "# hypothesis = x_train * W + b\n",
        "\n",
        "# cost/loss function\n",
        "def cost():\n",
        "  hypothesis = x_train * W + b\n",
        "  return tf.reduce_mean(tf.square(hypothesis - y_train))"
      ],
      "execution_count": 146,
      "outputs": []
    },
    {
      "cell_type": "markdown",
      "metadata": {
        "id": "qAxNCQ7_poRf"
      },
      "source": [
        "## Fit the line"
      ]
    },
    {
      "cell_type": "code",
      "metadata": {
        "id": "t1thBPMKpoRf",
        "outputId": "2d04def0-85f6-494e-fd6f-a4b2a452e4b1",
        "colab": {
          "base_uri": "https://localhost:8080/"
        }
      },
      "source": [
        "optimizer = tf.keras.optimizers.SGD(learning_rate=0.01)\n",
        "\n",
        "for step in range(2001):\n",
        "  train = optimizer.minimize(cost,var_list=[W,b])\n",
        "  if step % 200 == 0:\n",
        "    print(\"step:{},W:{},b:{}\".format(step,W.read_value(),b.read_value()))\n",
        "    \n"
      ],
      "execution_count": 147,
      "outputs": [
        {
          "output_type": "stream",
          "text": [
            "step:0,W:[0.84437674],b:[-1.2727255]\n",
            "step:200,W:[1.2742817],b:[-0.62350684]\n",
            "step:400,W:[1.1694894],b:[-0.38528934]\n",
            "step:600,W:[1.1047342],b:[-0.23808523]\n",
            "step:800,W:[1.0647193],b:[-0.1471221]\n",
            "step:1000,W:[1.0399927],b:[-0.09091271]\n",
            "step:1200,W:[1.024713],b:[-0.05617859]\n",
            "step:1400,W:[1.0152713],b:[-0.03471511]\n",
            "step:1600,W:[1.0094366],b:[-0.02145183]\n",
            "step:1800,W:[1.0058314],b:[-0.01325597]\n",
            "step:2000,W:[1.0036035],b:[-0.00819153]\n"
          ],
          "name": "stdout"
        }
      ]
    },
    {
      "cell_type": "markdown",
      "metadata": {
        "id": "l1EGRcHtpoRh"
      },
      "source": [
        "#### Learns best fit W:[ 1.], b:[  0.]\n",
        "\n",
        "```\n",
        "step:0,W:[0.84437674],b:[-1.2727255]\n",
        "step:200,W:[1.2742817],b:[-0.62350684]\n",
        "step:400,W:[1.1694894],b:[-0.38528934]\n",
        "step:600,W:[1.1047342],b:[-0.23808523]\n",
        "step:800,W:[1.0647193],b:[-0.1471221]\n",
        "step:1000,W:[1.0399927],b:[-0.09091271]\n",
        "step:1200,W:[1.024713],b:[-0.05617859]\n",
        "step:1400,W:[1.0152713],b:[-0.03471511]\n",
        "step:1600,W:[1.0094366],b:[-0.02145183]\n",
        "step:1800,W:[1.0058314],b:[-0.01325597]\n",
        "step:2000,W:[1.0036035],b:[-0.00819153]\n",
        "```"
      ]
    }
  ]
}