{
  "nbformat": 4,
  "nbformat_minor": 0,
  "metadata": {
    "kernelspec": {
      "display_name": "Python 3",
      "language": "python",
      "name": "python3"
    },
    "language_info": {
      "codemirror_mode": {
        "name": "ipython",
        "version": 3
      },
      "file_extension": ".py",
      "mimetype": "text/x-python",
      "name": "python",
      "nbconvert_exporter": "python",
      "pygments_lexer": "ipython3",
      "version": "3.6.0"
    },
    "colab": {
      "name": "lab-01-basics.ipynb",
      "provenance": []
    }
  },
  "cells": [
    {
      "cell_type": "markdown",
      "metadata": {
        "id": "6aXn50UxYd-K"
      },
      "source": [
        "# Getting Started With TensorFlow\n",
        "https://www.tensorflow.org/get_started/get_started"
      ]
    },
    {
      "cell_type": "markdown",
      "metadata": {
        "id": "1579l6VuYd-T"
      },
      "source": [
        "## Check TF version"
      ]
    },
    {
      "cell_type": "code",
      "metadata": {
        "colab": {
          "base_uri": "https://localhost:8080/",
          "height": 34
        },
        "id": "bsb5g5-DYd-U",
        "outputId": "2d3d365e-6748-424a-c7dc-c0526735cd46"
      },
      "source": [
        "import tensorflow as tf\n",
        "tf.__version__"
      ],
      "execution_count": 1,
      "outputs": [
        {
          "output_type": "execute_result",
          "data": {
            "application/vnd.google.colaboratory.intrinsic+json": {
              "type": "string"
            },
            "text/plain": [
              "'2.4.1'"
            ]
          },
          "metadata": {
            "tags": []
          },
          "execution_count": 1
        }
      ]
    },
    {
      "cell_type": "markdown",
      "metadata": {
        "id": "HmOSLaMvYd-V"
      },
      "source": [
        "## Hello TensorFlow!"
      ]
    },
    {
      "cell_type": "code",
      "metadata": {
        "colab": {
          "base_uri": "https://localhost:8080/"
        },
        "id": "v8SRpJhEYd-W",
        "outputId": "5e251472-68e5-4d34-d1e8-7d1703daebf8"
      },
      "source": [
        "# Create a constant op\n",
        "# This op is added as a node to the default graph\n",
        "hello = tf.constant(\"Hello, TensorFlow!\")\n",
        "\n",
        "# Eager Execution \n",
        "tf.print(hello)"
      ],
      "execution_count": 32,
      "outputs": [
        {
          "output_type": "stream",
          "text": [
            "Hello, TensorFlow!\n"
          ],
          "name": "stdout"
        }
      ]
    },
    {
      "cell_type": "markdown",
      "metadata": {
        "id": "mWsm3ToMYd-X"
      },
      "source": [
        "## Tensors"
      ]
    },
    {
      "cell_type": "code",
      "metadata": {
        "colab": {
          "base_uri": "https://localhost:8080/"
        },
        "id": "R9CsKjdbYd-X",
        "outputId": "27eb71a9-1e24-4d84-9a01-21336b398648"
      },
      "source": [
        "3 # a rank 0 tensor; this is a scalar with shape []\n",
        "[1. ,2., 3.] # a rank 1 tensor; this is a vector with shape [3]\n",
        "[[1., 2., 3.], [4., 5., 6.]] # a rank 2 tensor; a matrix with shape [2, 3]\n",
        "[[[1., 2., 3.]], [[7., 8., 9.]]] # a rank 3 tensor with shape [2, 1, 3]"
      ],
      "execution_count": 33,
      "outputs": [
        {
          "output_type": "execute_result",
          "data": {
            "text/plain": [
              "[[[1.0, 2.0, 3.0]], [[7.0, 8.0, 9.0]]]"
            ]
          },
          "metadata": {
            "tags": []
          },
          "execution_count": 33
        }
      ]
    },
    {
      "cell_type": "markdown",
      "metadata": {
        "id": "cj0dxCLrYd-X"
      },
      "source": [
        "## Computational Graph"
      ]
    },
    {
      "cell_type": "code",
      "metadata": {
        "id": "r9makwDzYd-Y"
      },
      "source": [
        "node1 = tf.constant(3.0, tf.float32)\n",
        "node2 = tf.constant(4.0) # also tf.float32 implicitly\n",
        "node3 = tf.add(node1, node2)"
      ],
      "execution_count": 26,
      "outputs": []
    },
    {
      "cell_type": "code",
      "metadata": {
        "scrolled": true,
        "colab": {
          "base_uri": "https://localhost:8080/"
        },
        "id": "_l3YcBvVYd-Y",
        "outputId": "07d118b0-8f8e-4099-a484-23345f4c6058"
      },
      "source": [
        "print(\"node1:\", node1, \"node2:\", node2)\n",
        "print(\"node3: \", node3)\n"
      ],
      "execution_count": 53,
      "outputs": [
        {
          "output_type": "stream",
          "text": [
            "node1: tf.Tensor(3.0, shape=(), dtype=float32) node2: tf.Tensor(4.0, shape=(), dtype=float32)\n",
            "node3:  tf.Tensor(7.0, shape=(), dtype=float32)\n"
          ],
          "name": "stdout"
        }
      ]
    },
    {
      "cell_type": "markdown",
      "metadata": {
        "id": "xGX0D0QZYd-Z"
      },
      "source": [
        "![Graph](https://www.tensorflow.org/images/getting_started_adder.png)"
      ]
    },
    {
      "cell_type": "code",
      "metadata": {
        "scrolled": true,
        "colab": {
          "base_uri": "https://localhost:8080/"
        },
        "id": "qB2O5e92Yd-Z",
        "outputId": "c3297614-88af-4831-93ce-5b6213d0f25e"
      },
      "source": [
        "# sess = tf.Session()\n",
        "# print(\"sess.run(node1, node2): \", sess.run([node1, node2]))\n",
        "# print(\"sess.run(node3): \", sess.run(node3))\n",
        "\n",
        "tf.print(node1)\n",
        "tf.print(node2)\n",
        "tf.print(node3)\n"
      ],
      "execution_count": 38,
      "outputs": [
        {
          "output_type": "stream",
          "text": [
            "3\n",
            "4\n",
            "7\n"
          ],
          "name": "stdout"
        }
      ]
    },
    {
      "cell_type": "code",
      "metadata": {
        "colab": {
          "base_uri": "https://localhost:8080/"
        },
        "id": "XTrfA2mBYd-Z",
        "outputId": "bad76684-76fa-41c8-a469-8ae598ff6ab4"
      },
      "source": [
        "a = tf.Variable(3.)\n",
        "b = tf.Variable(4.5)\n",
        "\n",
        "c = tf.add(a,b)  # + provides a shortcut for tf.add(a, b)\n",
        "\n",
        "tf.print(a)\n",
        "tf.print(b)\n",
        "tf.print(c)\n",
        "\n",
        "# print(sess.run(adder_node, feed_dict={a: 3, b: 4.5}))\n",
        "# print(sess.run(adder_node, feed_dict={a: [1,3], b: [2, 4]}))\n",
        "\n",
        "\n",
        "# a = tf.placeholder(tf.float32)\n",
        "# b = tf.placeholder(tf.float32)\n",
        "# adder_node = a + b  # + provides a shortcut for tf.add(a, b)\n",
        "\n",
        "# print(sess.run(adder_node, feed_dict={a: 3, b: 4.5}))\n",
        "# print(sess.run(adder_node, feed_dict={a: [1,3], b: [2, 4]}))"
      ],
      "execution_count": 43,
      "outputs": [
        {
          "output_type": "stream",
          "text": [
            "3\n",
            "4.5\n",
            "7.5\n"
          ],
          "name": "stdout"
        }
      ]
    },
    {
      "cell_type": "code",
      "metadata": {
        "colab": {
          "base_uri": "https://localhost:8080/"
        },
        "id": "g9HPjcVtYd-a",
        "outputId": "d6e34265-70cb-4f91-9a03-1ea9e189ae71"
      },
      "source": [
        "# add_and_triple = adder_node * 3.\n",
        "# print(sess.run(add_and_triple, feed_dict={a: 3, b:4.5}))\n",
        "\n",
        "def add_and_triple(a,b):\n",
        "  return 3*(a + b)\n",
        "\n",
        "d = add_and_triple(a,b)\n",
        "print(d)\n",
        "print(\"d is {}\".format(d))\n",
        "tf.print(d)\n",
        "\n",
        "# print(sess.run(add_and_triple, feed_dict={a: 3, b:4.5}))"
      ],
      "execution_count": 62,
      "outputs": [
        {
          "output_type": "stream",
          "text": [
            "tf.Tensor(22.5, shape=(), dtype=float32)\n",
            "d is 22.5\n",
            "22.5\n"
          ],
          "name": "stdout"
        }
      ]
    }
  ]
}