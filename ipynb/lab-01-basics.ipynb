{
  "nbformat": 4,
  "nbformat_minor": 0,
  "metadata": {
    "kernelspec": {
      "display_name": "Python 3",
      "language": "python",
      "name": "python3"
    },
    "language_info": {
      "codemirror_mode": {
        "name": "ipython",
        "version": 3
      },
      "file_extension": ".py",
      "mimetype": "text/x-python",
      "name": "python",
      "nbconvert_exporter": "python",
      "pygments_lexer": "ipython3",
      "version": "3.6.0"
    },
    "colab": {
      "name": "lab-01-basics.ipynb",
      "provenance": []
    }
  },
  "cells": [
    {
      "cell_type": "markdown",
      "metadata": {
        "id": "6aXn50UxYd-K"
      },
      "source": [
        "# Getting Started With TensorFlow\n",
        "https://www.tensorflow.org/get_started/get_started"
      ]
    },
    {
      "cell_type": "markdown",
      "metadata": {
        "id": "1579l6VuYd-T"
      },
      "source": [
        "## Check TF version"
      ]
    },
    {
      "cell_type": "code",
      "metadata": {
        "id": "bsb5g5-DYd-U",
        "outputId": "2d3d365e-6748-424a-c7dc-c0526735cd46",
        "colab": {
          "base_uri": "https://localhost:8080/",
          "height": 34
        }
      },
      "source": [
        "import tensorflow as tf\n",
        "tf.__version__"
      ],
      "execution_count": 1,
      "outputs": [
        {
          "output_type": "execute_result",
          "data": {
            "application/vnd.google.colaboratory.intrinsic+json": {
              "type": "string"
            },
            "text/plain": [
              "'2.4.1'"
            ]
          },
          "metadata": {
            "tags": []
          },
          "execution_count": 1
        }
      ]
    },
    {
      "cell_type": "markdown",
      "metadata": {
        "id": "HmOSLaMvYd-V"
      },
      "source": [
        "## Hello TensorFlow!"
      ]
    },
    {
      "cell_type": "code",
      "metadata": {
        "id": "v8SRpJhEYd-W",
        "outputId": "5e251472-68e5-4d34-d1e8-7d1703daebf8",
        "colab": {
          "base_uri": "https://localhost:8080/"
        }
      },
      "source": [
        "# Create a constant op\n",
        "# This op is added as a node to the default graph\n",
        "hello = tf.constant(\"Hello, TensorFlow!\")\n",
        "\n",
        "# Eager Execution \n",
        "tf.print(hello)"
      ],
      "execution_count": 32,
      "outputs": [
        {
          "output_type": "stream",
          "text": [
            "Hello, TensorFlow!\n"
          ],
          "name": "stdout"
        }
      ]
    },
    {
      "cell_type": "markdown",
      "metadata": {
        "id": "mWsm3ToMYd-X"
      },
      "source": [
        "## Tensors"
      ]
    },
    {
      "cell_type": "code",
      "metadata": {
        "id": "R9CsKjdbYd-X",
        "outputId": "cdcaaed0-1b6e-45f1-ec95-9372dec285a0",
        "colab": {
          "base_uri": "https://localhost:8080/"
        }
      },
      "source": [
        "3 # a rank 0 tensor; this is a scalar with shape []\n",
        "[1. ,2., 3.] # a rank 1 tensor; this is a vector with shape [3]\n",
        "[[1., 2., 3.], [4., 5., 6.]] # a rank 2 tensor; a matrix with shape [2, 3]\n",
        "[[[1., 2., 3.]], [[7., 8., 9.]]] # a rank 3 tensor with shape [2, 1, 3]"
      ],
      "execution_count": 24,
      "outputs": [
        {
          "output_type": "execute_result",
          "data": {
            "text/plain": [
              "[[[1.0, 2.0, 3.0]], [[7.0, 8.0, 9.0]]]"
            ]
          },
          "metadata": {
            "tags": []
          },
          "execution_count": 24
        }
      ]
    },
    {
      "cell_type": "markdown",
      "metadata": {
        "id": "cj0dxCLrYd-X"
      },
      "source": [
        "## Computational Graph"
      ]
    },
    {
      "cell_type": "code",
      "metadata": {
        "id": "r9makwDzYd-Y"
      },
      "source": [
        "node1 = tf.constant(3.0, tf.float32)\n",
        "node2 = tf.constant(4.0) # also tf.float32 implicitly\n",
        "node3 = tf.add(node1, node2)"
      ],
      "execution_count": 26,
      "outputs": []
    },
    {
      "cell_type": "code",
      "metadata": {
        "scrolled": true,
        "id": "_l3YcBvVYd-Y",
        "outputId": "761b19f3-9176-471f-b59e-16083ca1bf23",
        "colab": {
          "base_uri": "https://localhost:8080/"
        }
      },
      "source": [
        "print(\"node1:\", node1, \"node2:\", node2)\n",
        "print(\"node3: \", node3)"
      ],
      "execution_count": 27,
      "outputs": [
        {
          "output_type": "stream",
          "text": [
            "node1: tf.Tensor(3.0, shape=(), dtype=float32) node2: tf.Tensor(4.0, shape=(), dtype=float32)\n",
            "node3:  tf.Tensor(7.0, shape=(), dtype=float32)\n"
          ],
          "name": "stdout"
        }
      ]
    },
    {
      "cell_type": "markdown",
      "metadata": {
        "id": "xGX0D0QZYd-Z"
      },
      "source": [
        "![Graph](https://www.tensorflow.org/images/getting_started_adder.png)"
      ]
    },
    {
      "cell_type": "code",
      "metadata": {
        "scrolled": true,
        "id": "qB2O5e92Yd-Z",
        "outputId": "5aea4047-daa6-4a74-dc9a-bf07997360d4",
        "colab": {
          "base_uri": "https://localhost:8080/"
        }
      },
      "source": [
        "# sess = tf.Session()\n",
        "# print(\"sess.run(node1, node2): \", sess.run([node1, node2]))\n",
        "# print(\"sess.run(node3): \", sess.run(node3))\n",
        "\n",
        "tf.print(node1)\n",
        "tf.print(node2)\n",
        "tf.print(node3)\n"
      ],
      "execution_count": 30,
      "outputs": [
        {
          "output_type": "stream",
          "text": [
            "3\n",
            "4\n",
            "7\n"
          ],
          "name": "stdout"
        }
      ]
    },
    {
      "cell_type": "code",
      "metadata": {
        "id": "XTrfA2mBYd-Z",
        "outputId": "8b765120-5b5c-4629-bacc-7966dde3d544"
      },
      "source": [
        "a = tf.placeholder(tf.float32)\n",
        "b = tf.placeholder(tf.float32)\n",
        "adder_node = a + b  # + provides a shortcut for tf.add(a, b)\n",
        "\n",
        "print(sess.run(adder_node, feed_dict={a: 3, b: 4.5}))\n",
        "print(sess.run(adder_node, feed_dict={a: [1,3], b: [2, 4]}))"
      ],
      "execution_count": null,
      "outputs": [
        {
          "output_type": "stream",
          "text": [
            "7.5\n",
            "[ 3.  7.]\n"
          ],
          "name": "stdout"
        }
      ]
    },
    {
      "cell_type": "code",
      "metadata": {
        "id": "g9HPjcVtYd-a",
        "outputId": "6f5e9cd8-a491-48b0-c511-f5d17effcb1b"
      },
      "source": [
        "add_and_triple = adder_node * 3.\n",
        "print(sess.run(add_and_triple, feed_dict={a: 3, b:4.5}))"
      ],
      "execution_count": null,
      "outputs": [
        {
          "output_type": "stream",
          "text": [
            "22.5\n"
          ],
          "name": "stdout"
        }
      ]
    }
  ]
}